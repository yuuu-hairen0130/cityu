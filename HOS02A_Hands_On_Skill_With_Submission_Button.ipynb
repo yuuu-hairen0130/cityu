{
  "nbformat": 4,
  "nbformat_minor": 0,
  "metadata": {
    "colab": {
      "provenance": []
    },
    "kernelspec": {
      "name": "python3",
      "display_name": "Python 3"
    },
    "language_info": {
      "name": "python"
    }
  },
  "cells": [
    {
      "cell_type": "markdown",
      "source": [
        "Section 1: Variables, Data Types, and User Input"
      ],
      "metadata": {
        "id": "4Ty48QqvhHTo"
      }
    },
    {
      "cell_type": "code",
      "source": [
        "name = input(\"What's your name? \")\n",
        "age = input(\"How old are you? \")\n",
        "print(\"Hello \" + name + \"! You are \" + age + \" years old.\")"
      ],
      "metadata": {
        "id": "uqIFepk3hMmk"
      },
      "execution_count": null,
      "outputs": []
    },
    {
      "cell_type": "markdown",
      "source": [
        "Section 2: String Functions and Concatenation"
      ],
      "metadata": {
        "id": "OXmSb3LjhOsy"
      }
    },
    {
      "cell_type": "code",
      "source": [
        "first_name = \"John\"\n",
        "last_name = \"Doe\"\n",
        "print(f\"Your full name is {first_name} {last_name}.\")"
      ],
      "metadata": {
        "id": "6b2osn2YhRKh"
      },
      "execution_count": null,
      "outputs": []
    },
    {
      "cell_type": "markdown",
      "source": [
        "Section 3: Numbers and Operators"
      ],
      "metadata": {
        "id": "yCLDuW0YhXE1"
      }
    },
    {
      "cell_type": "code",
      "source": [
        "a = 10\n",
        "b = 3\n",
        "c = 5\n",
        "print(\"a + c =\", a + c)\n",
        "print(\"a ** b =\", a ** b)"
      ],
      "metadata": {
        "id": "Y65K7ZKmhYbk"
      },
      "execution_count": null,
      "outputs": []
    },
    {
      "cell_type": "markdown",
      "source": [
        "Section 4: If-Else"
      ],
      "metadata": {
        "id": "H7IDNXu2hZ5I"
      }
    },
    {
      "cell_type": "code",
      "source": [
        "num = int(input(\"Enter a number: \"))\n",
        "if num > 10:\n",
        "    print(\"Greater than 10\")\n",
        "elif num == 10:\n",
        "    print(\"Equal to 10\")\n",
        "else:\n",
        "    print(\"Less than 10\")"
      ],
      "metadata": {
        "id": "yik91dFzhbEk"
      },
      "execution_count": null,
      "outputs": []
    },
    {
      "cell_type": "markdown",
      "source": [
        "Section 5: Loops"
      ],
      "metadata": {
        "id": "7JaNT3llhcmm"
      }
    },
    {
      "cell_type": "code",
      "source": [
        "import random\n",
        "end_range = random.randint(5, 15)\n",
        "for i in range(end_range):\n",
        "    print(\"Looping:\", i)"
      ],
      "metadata": {
        "id": "ab2Duahyhene"
      },
      "execution_count": null,
      "outputs": []
    },
    {
      "cell_type": "markdown",
      "source": [
        "Section 6: Space and Time Complexity"
      ],
      "metadata": {
        "id": "enlhF4g3hfM2"
      }
    },
    {
      "cell_type": "code",
      "source": [
        "def print_numbers(n):\n",
        "    for i in range(n):\n",
        "        print(i)\n",
        "\n",
        "print_numbers(10)"
      ],
      "metadata": {
        "id": "m4HnQTjyhgeK"
      },
      "execution_count": null,
      "outputs": []
    },
    {
      "cell_type": "markdown",
      "source": [
        "Section 7: Vibe Coding\n",
        "Create an interactive guessing game using Python where the setting is a playground. The vibe is fun and simple.\n",
        "Your goal: Guess the lucky number between 1 and 5"
      ],
      "metadata": {
        "id": "i0OI1Lpvhsbz"
      }
    },
    {
      "cell_type": "code",
      "source": [
        "print(\"Welcome to the Lucky Number Game!\")\n",
        "\n",
        "name = input(\"What's your name? \")\n",
        "print(\"Hi \" + name + \"! Let's play a game.\")\n",
        "print(\"I'm thinking of a number between 1 and 5.\")\n",
        "\n",
        "lucky_number = 3\n",
        "guess = int(input(\"What's your guess? \"))\n",
        "\n",
        "if guess == lucky_number:\n",
        "    print(\"You got it! You are lucky today!\")\n",
        "else:\n",
        "    print(\"Oops, wrong number. Try again next time!\")\n",
        "\n",
        "print(\"Here are the numbers from 1 to 5:\")\n",
        "for i in range(1, 6):\n",
        "    print(i)"
      ],
      "metadata": {
        "id": "O0BFZ3lWhuy0"
      },
      "execution_count": null,
      "outputs": []
    }
  ]
}