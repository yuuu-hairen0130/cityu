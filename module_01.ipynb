{
  "nbformat": 4,
  "nbformat_minor": 0,
  "metadata": {
    "colab": {
      "provenance": []
    },
    "kernelspec": {
      "name": "python3",
      "display_name": "Python 3"
    },
    "language_info": {
      "name": "python"
    }
  },
  "cells": [
    {
      "cell_type": "code",
      "execution_count": null,
      "metadata": {
        "id": "7_kjv1gVHtOX"
      },
      "outputs": [],
      "source": []
    },
    {
      "cell_type": "markdown",
      "source": [
        "Hairen Yu ## CS320 - Fundamentals of Artificial Intelligence  \n",
        "### Google Colab - Module 01"
      ],
      "metadata": {
        "id": "BGZccwU8H1eL"
      }
    },
    {
      "cell_type": "code",
      "source": [
        "import random\n",
        "number = random.randint(20, 25)\n",
        "print(\"Random number:\", number)"
      ],
      "metadata": {
        "colab": {
          "base_uri": "https://localhost:8080/"
        },
        "id": "YryO4-YHH7Vl",
        "outputId": "2ac678a7-384b-4a3f-ba3a-5ba0089db753"
      },
      "execution_count": 1,
      "outputs": [
        {
          "output_type": "stream",
          "name": "stdout",
          "text": [
            "Random number: 23\n"
          ]
        }
      ]
    },
    {
      "cell_type": "code",
      "source": [
        "from sklearn.datasets import fetch_20newsgroups\n",
        "newsgroups = fetch_20newsgroups(subset='train')\n",
        "print(\"Number of training samples:\", len(newsgroups.data))\n",
        "print(\"Number of training labels:\", len(newsgroups.target))"
      ],
      "metadata": {
        "colab": {
          "base_uri": "https://localhost:8080/"
        },
        "id": "-x1BKlgUH9PZ",
        "outputId": "a7b65eb8-7080-466b-fc3f-19fdb8ec7ae3"
      },
      "execution_count": 2,
      "outputs": [
        {
          "output_type": "stream",
          "name": "stdout",
          "text": [
            "Number of training samples: 11314\n",
            "Number of training labels: 11314\n"
          ]
        }
      ]
    },
    {
      "cell_type": "code",
      "source": [
        "print(\"First target:\", newsgroups.target[0])\n",
        "print(\"First sample data:\\n\", newsgroups.data[0])"
      ],
      "metadata": {
        "colab": {
          "base_uri": "https://localhost:8080/"
        },
        "id": "mOk-8URKH-XD",
        "outputId": "73e5a053-bf55-4ae2-f018-5490a56512a5"
      },
      "execution_count": 5,
      "outputs": [
        {
          "output_type": "stream",
          "name": "stdout",
          "text": [
            "First target: 7\n",
            "First sample data:\n",
            " From: lerxst@wam.umd.edu (where's my thing)\n",
            "Subject: WHAT car is this!?\n",
            "Nntp-Posting-Host: rac3.wam.umd.edu\n",
            "Organization: University of Maryland, College Park\n",
            "Lines: 15\n",
            "\n",
            " I was wondering if anyone out there could enlighten me on this car I saw\n",
            "the other day. It was a 2-door sports car, looked to be from the late 60s/\n",
            "early 70s. It was called a Bricklin. The doors were really small. In addition,\n",
            "the front bumper was separate from the rest of the body. This is \n",
            "all I know. If anyone can tellme a model name, engine specs, years\n",
            "of production, where this car is made, history, or whatever info you\n",
            "have on this funky looking car, please e-mail.\n",
            "\n",
            "Thanks,\n",
            "- IL\n",
            "   ---- brought to you by your neighborhood Lerxst ----\n",
            "\n",
            "\n",
            "\n",
            "\n",
            "\n"
          ]
        }
      ]
    },
    {
      "cell_type": "code",
      "source": [
        "import random\n",
        "\n",
        "def guess_the_number():\n",
        "    \"\"\"Generates a random number and prompts the user to guess it.\"\"\"\n",
        "    random_number = random.randint(20, 25)\n",
        "    guess = None\n",
        "\n",
        "    print(\"I'm thinking of a number between 20 and 25. Can you guess it?\")\n",
        "\n",
        "    while guess != random_number:\n",
        "        try:\n",
        "            guess = int(input(\"Enter your guess: \"))\n",
        "            if guess < random_number:\n",
        "                print(\"Too low! Try again.\")\n",
        "            elif guess > random_number:\n",
        "                print(\"Too high! Try again.\")\n",
        "        except ValueError:\n",
        "            print(\"Invalid input. Please enter a whole number.\")\n",
        "\n",
        "    print(f\"Congratulations! You guessed the number: {random_number}\")\n",
        "\n",
        "# To run the game, simply call the function:\n",
        "# guess_the_number()"
      ],
      "metadata": {
        "id": "f9urOZgqIKhE"
      },
      "execution_count": 6,
      "outputs": []
    }
  ]
}