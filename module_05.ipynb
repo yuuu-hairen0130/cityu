{
  "nbformat": 4,
  "nbformat_minor": 0,
  "metadata": {
    "colab": {
      "provenance": []
    },
    "kernelspec": {
      "name": "python3",
      "display_name": "Python 3"
    },
    "language_info": {
      "name": "python"
    }
  },
  "cells": [
    {
      "cell_type": "code",
      "execution_count": 2,
      "metadata": {
        "colab": {
          "base_uri": "https://localhost:8080/"
        },
        "id": "witIrVAgn62O",
        "outputId": "628804df-9ffb-4001-ae1b-54184ebb3a15"
      },
      "outputs": [
        {
          "output_type": "stream",
          "name": "stdout",
          "text": [
            "Feature Names: ['mean radius' 'mean texture' 'mean perimeter' 'mean area'\n",
            " 'mean smoothness']\n",
            "Target Names: ['malignant' 'benign']\n",
            "Data Shape: (569, 30)\n",
            "Target Shape: (569,)\n",
            "\n",
            "Sample Data (first row):\n",
            " [1.799e+01 1.038e+01 1.228e+02 1.001e+03 1.184e-01 2.776e-01 3.001e-01\n",
            " 1.471e-01 2.419e-01 7.871e-02 1.095e+00 9.053e-01 8.589e+00 1.534e+02\n",
            " 6.399e-03 4.904e-02 5.373e-02 1.587e-02 3.003e-02 6.193e-03 2.538e+01\n",
            " 1.733e+01 1.846e+02 2.019e+03 1.622e-01 6.656e-01 7.119e-01 2.654e-01\n",
            " 4.601e-01 1.189e-01]\n",
            "\n",
            "Sample Target (first 10):\n",
            " [0 0 0 0 0 0 0 0 0 0]\n",
            "\n",
            "Linear Regression Prediction: [0.59073061]\n",
            "\n",
            "Logistic Regression Prediction: [1]\n",
            "\n",
            "Accuracy with all features: 0.8671328671328671\n"
          ]
        }
      ],
      "source": [
        "# CS320 - Module 05: Logistic Regression with scikit-learn\n",
        "# Author: (Your Name)\n",
        "# Date: (e.g., 2025-07-18)\n",
        "\n",
        "from sklearn.datasets import load_breast_cancer\n",
        "from sklearn.linear_model import LogisticRegression, LinearRegression\n",
        "from sklearn.model_selection import train_test_split\n",
        "import numpy as np\n",
        "import matplotlib.pyplot as plt\n",
        "\n",
        "data = load_breast_cancer()\n",
        "print(\"Feature Names:\", data.feature_names[:5])  # just first 5\n",
        "print(\"Target Names:\", data.target_names)\n",
        "print(\"Data Shape:\", data.data.shape)\n",
        "print(\"Target Shape:\", data.target.shape)\n",
        "print(\"\\nSample Data (first row):\\n\", data.data[0])\n",
        "print(\"\\nSample Target (first 10):\\n\", data.target[:10])\n",
        "\n",
        "X_linear = data.data[:100, 25:]  # last 5 features, first 100 samples\n",
        "y_linear = data.target[:100]\n",
        "linearModel = LinearRegression()\n",
        "linearModel.fit(X_linear, y_linear)\n",
        "\n",
        "x_sample = data.data[10, 25:].reshape(1, -1)  # reshape required\n",
        "prediction_linear = linearModel.predict(x_sample)\n",
        "print(\"\\nLinear Regression Prediction:\", prediction_linear)\n",
        "\n",
        "X_logit = data.data[:100, 25:]\n",
        "y_logit = data.target[:100]\n",
        "logitModel = LogisticRegression(max_iter=10000)\n",
        "logitModel.fit(X_logit, y_logit)\n",
        "\n",
        "prediction_logit = logitModel.predict(x_sample)\n",
        "print(\"\\nLogistic Regression Prediction:\", prediction_logit)\n",
        "\n",
        "X_all = data.data[:, 25:]\n",
        "y_all = data.target\n",
        "X_train, X_test, y_train, y_test = train_test_split(X_all, y_all, random_state=42)\n",
        "logitModelFull = LogisticRegression(max_iter=10000)\n",
        "logitModelFull.fit(X_train, y_train)\n",
        "accuracy_full = logitModelFull.score(X_test, y_test)\n",
        "print(\"\\nAccuracy with all features:\", accuracy_full)"
      ]
    },
    {
      "cell_type": "markdown",
      "source": [
        "Section 2 Vibe coding"
      ],
      "metadata": {
        "id": "13hPrAeIoowI"
      }
    },
    {
      "cell_type": "code",
      "source": [
        "# --- Section 2: Vibe Coding - Feature Importance ---\n",
        "fullModel = LogisticRegression(max_iter=10000)\n",
        "fullModel.fit(X_train, y_train)\n",
        "coefs = np.abs(fullModel.coef_[0])\n",
        "top5_indices = np.argsort(coefs)[-5:]\n",
        "top5_feature_names = data.feature_names[top5_indices]\n",
        "print(\"\\nTop 5 Important Features:\", top5_feature_names)\n",
        "\n",
        "X_top5 = data.data[:, top5_indices]\n",
        "X_train_top5, X_test_top5, y_train, y_test = train_test_split(X_top5, y_all, random_state=42)\n",
        "top5Model = LogisticRegression(max_iter=10000)\n",
        "top5Model.fit(X_train_top5, y_train)\n",
        "accuracy_top5 = top5Model.score(X_test_top5, y_test)\n",
        "\n",
        "# --- Compare model accuracy ---\n",
        "plt.bar([\"All Features\", \"Top 5 Features\"], [accuracy_full, accuracy_top5], color=[\"skyblue\", \"orange\"])\n",
        "plt.ylabel(\"Accuracy\")\n",
        "plt.title(\"Model Accuracy Comparison\")\n",
        "plt.show()"
      ],
      "metadata": {
        "colab": {
          "base_uri": "https://localhost:8080/",
          "height": 504
        },
        "id": "efHJEcgbot_G",
        "outputId": "80c80595-be1a-4ae2-d067-c315746b48c2"
      },
      "execution_count": 3,
      "outputs": [
        {
          "output_type": "stream",
          "name": "stdout",
          "text": [
            "\n",
            "Top 5 Important Features: ['mean smoothness' 'mean area' 'mean radius' 'mean perimeter'\n",
            " 'mean texture']\n"
          ]
        },
        {
          "output_type": "display_data",
          "data": {
            "text/plain": [
              "<Figure size 640x480 with 1 Axes>"
            ],
            "image/png": "[encoded data removed]"
          },
          "metadata": {}
        }
      ]
    }
  ]
}