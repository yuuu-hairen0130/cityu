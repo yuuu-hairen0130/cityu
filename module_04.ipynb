{
  "nbformat": 4,
  "nbformat_minor": 0,
  "metadata": {
    "colab": {
      "provenance": []
    },
    "kernelspec": {
      "name": "python3",
      "display_name": "Python 3"
    },
    "language_info": {
      "name": "python"
    }
  },
  "cells": [
    {
      "cell_type": "code",
      "execution_count": 15,
      "metadata": {
        "colab": {
          "base_uri": "https://localhost:8080/"
        },
        "id": "tgvMQWuD6ziT",
        "outputId": "f7a1580b-aaf2-494c-fd08-6e7fe6ce3980"
      },
      "outputs": [
        {
          "output_type": "stream",
          "name": "stdout",
          "text": [
            "Hello World!\n",
            "Item: Pizza, Quantity: 2\n",
            "Restaurant Info:\n",
            "name: Pizza Hut\n",
            "location: Mexicali\n"
          ]
        }
      ],
      "source": [
        "def greet_user():\n",
        "    print(\"Hello World!\")\n",
        "\n",
        "greet_user()\n",
        "def menu(item, quantity, **restaurant):\n",
        "    print(f\"Item: {item}, Quantity: {quantity}\")\n",
        "    print(\"Restaurant Info:\")\n",
        "    for key, value in restaurant.items():\n",
        "        print(f\"{key}: {value}\")\n",
        "\n",
        "menu(\"Pizza\", 2, name=\"Pizza Hut\", location=\"Mexicali\")\n"
      ]
    },
    {
      "cell_type": "code",
      "source": [
        "with open(\"sample_data/hello.txt\", \"r\") as file_object:\n",
        "    contents = file_object.read()\n",
        "print(contents)\n",
        "with open(\"sample_data/hello.txt\", \"a\") as file_object:\n",
        "    file_object.write(\"\\nAppended line.\")"
      ],
      "metadata": {
        "id": "JTy9wOUV7c9p",
        "colab": {
          "base_uri": "https://localhost:8080/"
        },
        "outputId": "6b2843b4-b68a-423b-c577-2ce94ffce8b6"
      },
      "execution_count": 22,
      "outputs": [
        {
          "output_type": "stream",
          "name": "stdout",
          "text": [
            "HELLO WORLD\n",
            "Appended line.\n",
            "Appended line.\n"
          ]
        }
      ]
    },
    {
      "cell_type": "code",
      "source": [
        "\n",
        "def write_entry():\n",
        "    entry = input(\"Enter your workout log: \")\n",
        "    with open(\"workout_log.txt\", \"a\") as file:\n",
        "        file.write(entry + \"\\n\")\n",
        "\n",
        "def read_entries():\n",
        "    print(\"\\nWorkout History:\")\n",
        "    with open(\"workout_log.txt\", \"r\") as file:\n",
        "        print(file.read())\n",
        "\n",
        "while True:\n",
        "    choice = input(\"Type 'write' to add an entry, 'read' to see log, or 'quit' to exit: \")\n",
        "    if choice == 'write':\n",
        "        write_entry()\n",
        "    elif choice == 'read':\n",
        "        read_entries()\n",
        "    elif choice == 'quit':\n",
        "        break\n"
      ],
      "metadata": {
        "colab": {
          "base_uri": "https://localhost:8080/"
        },
        "id": "6F7Cn-II_5K8",
        "outputId": "7554449f-4800-4ccc-d74f-a4e3865c9042"
      },
      "execution_count": 19,
      "outputs": [
        {
          "name": "stdout",
          "output_type": "stream",
          "text": [
            "Type 'write' to add an entry, 'read' to see log, or 'quit' to exit: quit\n"
          ]
        }
      ]
    },
    {
      "cell_type": "code",
      "source": [],
      "metadata": {
        "id": "yxWUVjf-Asvw"
      },
      "execution_count": null,
      "outputs": []
    }
  ]
}